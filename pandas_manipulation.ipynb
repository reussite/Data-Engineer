{
 "cells": [
  {
   "cell_type": "code",
   "execution_count": 24,
   "id": "c98109cf-46b3-45f2-b2cb-c3f9c5cbfe47",
   "metadata": {},
   "outputs": [
    {
     "name": "stdout",
     "output_type": "stream",
     "text": [
      "     identifiant                            email                nom genre\n",
      "0              0        LaurentDagenais@rhyta.com   Laurent Dagenais     M\n",
      "1              1            GuyMarois@fleckens.hu         Guy Marois     M\n",
      "2              2        BeaufortLesage@einrot.com    Beaufort Lesage     M\n",
      "3              3        RussellDurand@armyspy.com     Russell Durand     M\n",
      "4              4             AlexisRiel@rhyta.com        Alexis Riel     M\n",
      "..           ...                              ...                ...   ...\n",
      "223          223  ClaudeDandonneau@jourrapide.com  Claude Dandonneau     F\n",
      "224          224    ApollineMichaud@superrito.com   Apolline Michaud     F\n",
      "225          225       PascalineBeaudry@rhyta.com  Pascaline Beaudry     F\n",
      "226          226     FleurCaouette@jourrapide.com     Fleur Caouette     F\n",
      "227          227      FrancisMasse@jourrapide.com      Francis Masse     M\n",
      "\n",
      "[228 rows x 4 columns]\n"
     ]
    }
   ],
   "source": [
    "import pandas as pd\n",
    "data = pd.read_csv(\"clients.csv\")\n",
    "print(data)"
   ]
  },
  {
   "cell_type": "code",
   "execution_count": null,
   "id": "5249a173-3f2c-42b8-b9ce-f4e158a6d327",
   "metadata": {},
   "outputs": [],
   "source": []
  }
 ],
 "metadata": {
  "kernelspec": {
   "display_name": "Python 3 (ipykernel)",
   "language": "python",
   "name": "python3"
  },
  "language_info": {
   "codemirror_mode": {
    "name": "ipython",
    "version": 3
   },
   "file_extension": ".py",
   "mimetype": "text/x-python",
   "name": "python",
   "nbconvert_exporter": "python",
   "pygments_lexer": "ipython3",
   "version": "3.12.4"
  }
 },
 "nbformat": 4,
 "nbformat_minor": 5
}
