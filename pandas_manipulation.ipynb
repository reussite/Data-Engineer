{
 "cells": [
  {
   "cell_type": "code",
   "execution_count": null,
   "id": "c98109cf-46b3-45f2-b2cb-c3f9c5cbfe47",
   "metadata": {},
   "outputs": [],
   "source": [
    "import numpy as np\n",
    "import pandas as pd"
   ]
  },
  {
   "cell_type": "code",
   "execution_count": 9,
   "id": "5249a173-3f2c-42b8-b9ce-f4e158a6d327",
   "metadata": {},
   "outputs": [
    {
     "name": "stdout",
     "output_type": "stream",
     "text": [
      "             remboursement  taux_endettement  cout_total  benefices\n",
      "identifiant                                                        \n",
      "0                  1130.05             30.80    271212.0     131.99\n",
      "1                  1487.85             28.02    389715.0     206.66\n",
      "2                   552.54             29.50    132609.6      53.71\n",
      "3                   586.03             34.80    105485.4      44.57\n",
      "4                   423.61             28.70    101666.4      51.21\n",
      "...                    ...               ...         ...        ...\n",
      "223                 672.13             31.60    161311.2      83.95\n",
      "224                1486.99             29.05    380592.0     196.75\n",
      "225                 876.43             37.20    157757.4      77.04\n",
      "226                2910.96             57.10    698630.4     331.85\n",
      "227                 434.38             18.50    130314.0      62.82\n",
      "\n",
      "[228 rows x 4 columns]\n"
     ]
    }
   ],
   "source": [
    "# traitement réalisés précédemment\n",
    "prets = pd.read_csv('https://raw.githubusercontent.com/OpenClassrooms-Student-Center/fr-4452741-decouvrez-les-librairies-python-pour-la-data-science/main/data/prets.csv')\n",
    "\n",
    "# calcul du taux d'endettement\n",
    "prets['taux_endettement'] = round(prets['remboursement'] * 100 / prets['revenu'], 2)\n",
    "\n",
    "# renommer taux en taux_interet\n",
    "prets.rename(columns={'taux':'taux_interet'}, inplace=True)\n",
    "\n",
    "# calculer le cout total du pret\n",
    "prets['cout_total'] = prets['remboursement'] * prets['duree']\n",
    "\n",
    "# calculer les bénéfices mensuels réalisés\n",
    "prets['benefices'] = round((prets['cout_total'] * prets['taux_interet']/100)/(24), 2)\n",
    "\n",
    "# création d'une variable risque\n",
    "prets['risque'] = 'Non'\n",
    "prets.loc[prets['taux_endettement'] > 35, 'risque'] = 'Oui'\n",
    "\n",
    "#un dataframe où il y n'y a qu'une seule ligne par client, avec le résumé de ses informations (somme remboursement, du taux d'endettement, du cout_total et des bénéfices #réalisés)\n",
    "profil_client =  prets.groupby('identifiant')[['remboursement', 'taux_endettement', 'cout_total', 'benefices']].sum()\n",
    "print(profil_client)\n",
    "#prets.head()"
   ]
  }
 ],
 "metadata": {
  "kernelspec": {
   "display_name": "Python 3 (ipykernel)",
   "language": "python",
   "name": "python3"
  },
  "language_info": {
   "codemirror_mode": {
    "name": "ipython",
    "version": 3
   },
   "file_extension": ".py",
   "mimetype": "text/x-python",
   "name": "python",
   "nbconvert_exporter": "python",
   "pygments_lexer": "ipython3",
   "version": "3.12.4"
  }
 },
 "nbformat": 4,
 "nbformat_minor": 5
}
